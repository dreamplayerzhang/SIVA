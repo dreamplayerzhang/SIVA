{
 "cells": [
  {
   "cell_type": "markdown",
   "metadata": {},
   "source": [
    "## How to get the limits of rotated ellipse?"
   ]
  },
  {
   "cell_type": "markdown",
   "metadata": {
    "collapsed": false
   },
   "source": [
    "#### Answer in http://math.stackexchange.com/questions/91132/how-to-get-the-limits-of-rotated-ellipse?newreg=c1d56d2ad7844edb9276614695b11dd5"
   ]
  },
  {
   "cell_type": "markdown",
   "metadata": {},
   "source": [
    "#### Load Libraries "
   ]
  },
  {
   "cell_type": "code",
   "execution_count": 3,
   "metadata": {
    "collapsed": false
   },
   "outputs": [
    {
     "name": "stdout",
     "output_type": "stream",
     "text": [
      "OpenCV Version : 2.4.11 \n"
     ]
    }
   ],
   "source": [
    "import numpy as np\n",
    "import cv2\n",
    "from matplotlib import pyplot as plt\n",
    "import os\n",
    "%matplotlib inline\n",
    "from matplotlib import pyplot as plt\n",
    "print \"OpenCV Version : %s \" % cv2.__version__"
   ]
  },
  {
   "cell_type": "markdown",
   "metadata": {},
   "source": [
    "#### Ellipse Parameters"
   ]
  },
  {
   "cell_type": "code",
   "execution_count": null,
   "metadata": {
    "collapsed": true
   },
   "outputs": [],
   "source": [
    "c1 = 100  #x center value\n",
    "c2 = 100  #y center value\n",
    "major_axis = 50\n",
    "minus_axis = 20\n",
    "angle = 70\n",
    "ratation_angle_rad = np.deg2rad(angle)\n",
    "\n",
    "x = np.sqrt(major_axis**2*pow(np.cos(ratation_angle_rad),2) + minus_axis**2*pow(np.sin(ratation_angle_rad),2))\n",
    "y = np.sqrt(major_axis**2*pow(np.sin(ratation_angle_rad),2) + minus_axis**2*pow(np.cos(ratation_angle_rad),2))\n",
    "\n",
    "x1 = c1 - int(x)\n",
    "y1 = c2 - int(y)\n",
    "x2 = c1 + int(x)\n",
    "y2 = c2 + int(y)"
   ]
  },
  {
   "cell_type": "markdown",
   "metadata": {},
   "source": [
    "#### Draw"
   ]
  },
  {
   "cell_type": "code",
   "execution_count": 5,
   "metadata": {
    "collapsed": false
   },
   "outputs": [
    {
     "data": {
      "image/png": "[encoded data removed]",
      "text/plain": [
       "<matplotlib.figure.Figure at 0x10f302c10>"
      ]
     },
     "metadata": {},
     "output_type": "display_data"
    }
   ],
   "source": [
    "canvas = np.zeros((200, 200, 3), dtype = \"uint8\")\n",
    "\n",
    "#Draw an Ellypse Below. \n",
    "cv2.ellipse(canvas, (c1,c2), (major_axis,minus_axis),angle,0,360,(0,255,0),1) \n",
    "\n",
    "#Draw an Rectangle Below. \n",
    "cv2.rectangle(canvas, (x1, y1), (x2, y2),(255,0,0), 1)\n",
    "plt.imshow(canvas)\n",
    "plt.show()\n"
   ]
  },
  {
   "cell_type": "markdown",
   "metadata": {
    "collapsed": true
   },
   "source": [
    "#### Rectangle Around Ellipse by 2 Value"
   ]
  },
  {
   "cell_type": "code",
   "execution_count": 6,
   "metadata": {
    "collapsed": false
   },
   "outputs": [
    {
     "data": {
      "image/png": "[encoded data removed]",
      "text/plain": [
       "<matplotlib.figure.Figure at 0x10f302350>"
      ]
     },
     "metadata": {},
     "output_type": "display_data"
    }
   ],
   "source": [
    "#Ellpse Parameters\n",
    "c1 = 100  #x center value\n",
    "c2 = 100  #y center value\n",
    "major_axis = 50\n",
    "minus_axis = 20\n",
    "angle = 70\n",
    "ratation_angle_rad = np.deg2rad(angle)\n",
    "\n",
    "x = np.sqrt(major_axis**2*pow(np.cos(ratation_angle_rad),2) + minus_axis**2*pow(np.sin(ratation_angle_rad),2))\n",
    "y = np.sqrt(major_axis**2*pow(np.sin(ratation_angle_rad),2) + minus_axis**2*pow(np.cos(ratation_angle_rad),2))\n",
    "\n",
    "x1 = c1 - int(x)*2\n",
    "y1 = c2 - int(y)*2\n",
    "x2 = c1 + int(x)*2\n",
    "y2 = c2 + int(y)*2\n",
    "\n",
    "canvas = np.zeros((200, 200, 3), dtype = \"uint8\")\n",
    "\n",
    "#Draw an Ellypse Below. \n",
    "cv2.ellipse(canvas, (c1,c2), (major_axis,minus_axis),angle,0,360,(0,255,0),1) \n",
    "\n",
    "#Draw an Rectangle Below. \n",
    "cv2.rectangle(canvas, (x1, y1), (x2, y2),(255,0,0), 1)\n",
    "\n",
    "plt.imshow(canvas)\n",
    "plt.show()"
   ]
  },
  {
   "cell_type": "markdown",
   "metadata": {},
   "source": [
    "#### Ellypse inside Rectangle No rotation"
   ]
  },
  {
   "cell_type": "code",
   "execution_count": 7,
   "metadata": {
    "collapsed": false
   },
   "outputs": [
    {
     "data": {
      "image/png": "[encoded data removed]",
      "text/plain": [
       "<matplotlib.figure.Figure at 0x10bb4bcd0>"
      ]
     },
     "metadata": {},
     "output_type": "display_data"
    }
   ],
   "source": [
    "#Rectangle Dimentions\n",
    "x1 = 30\n",
    "y1 = 30\n",
    "\n",
    "x2 = 125\n",
    "y2 = 100\n",
    "\n",
    "B = x2 - x1\n",
    "A = y2 - y1\n",
    "\n",
    "c1 = B/2 + x1\n",
    "c2 = A/2 + y1\n",
    "\n",
    "canvas = np.zeros((200, 200, 3), dtype = \"uint8\")\n",
    "cv2.rectangle(canvas, (x1, y1), (x2, y2), (0,0,255), 1)\n",
    "\n",
    "#Draw an Ellypse Below. \n",
    "cv2.ellipse(canvas, (c1,c2), (B/2,A/2),0,0,360,(0,255,0),1) \n",
    "\n",
    "plt.imshow(canvas)\n",
    "plt.show()"
   ]
  },
  {
   "cell_type": "code",
   "execution_count": null,
   "metadata": {
    "collapsed": true
   },
   "outputs": [],
   "source": []
  }
 ],
 "metadata": {
  "kernelspec": {
   "display_name": "Python 2",
   "language": "python",
   "name": "python2"
  },
  "language_info": {
   "codemirror_mode": {
    "name": "ipython",
    "version": 2
   },
   "file_extension": ".py",
   "mimetype": "text/x-python",
   "name": "python",
   "nbconvert_exporter": "python",
   "pygments_lexer": "ipython2",
   "version": "2.7.12"
  }
 },
 "nbformat": 4,
 "nbformat_minor": 0
}
